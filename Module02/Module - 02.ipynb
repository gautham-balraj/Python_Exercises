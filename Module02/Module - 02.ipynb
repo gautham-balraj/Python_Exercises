{
 "cells": [
  {
   "cell_type": "markdown",
   "metadata": {},
   "source": [
    "## Module - 2"
   ]
  },
  {
   "cell_type": "markdown",
   "metadata": {},
   "source": [
    "## Question - 1\n",
    "1.Write a Python program to generate three distinct numpy arrays containing full of zeros, ones, and randomly generated integers in a given specified shape.\n",
    "\n",
    "\n",
    "\n",
    "Use random library for generating random intergers.\n",
    "\n",
    "\n",
    "\n",
    "\n",
    "Input Format:\n",
    "\n",
    "\n",
    "Input should be the shape of the array.\n",
    "\n",
    "example - 2 3 (or) 2 3 4\n",
    "\n",
    "Spaces should separate each integer.\n",
    "\n",
    "\n",
    "\n",
    "Output Format:\n",
    "\n",
    "\n",
    "It should return 3 array containing full of zeros, ones, and randomly generated integers in a given specified shape."
   ]
  },
  {
   "cell_type": "code",
   "execution_count": null,
   "metadata": {},
   "outputs": [],
   "source": [
    "import numpy as np\n",
    "shape = input().split()\n",
    "shape =tuple((int(x) for x in shape))\n",
    "print(\"given shape : \",shape)\n",
    "print(\"array with zeros :\",np.zeros(shape),sep='\\n')b\n",
    "print(\"array with ones \",np.ones(shape),sep='\\n')\n",
    "print(\"array with random numbers \",np.random.rand(*shape),sep='\\n')\n"
   ]
  },
  {
   "cell_type": "markdown",
   "metadata": {},
   "source": [
    "## Question - 2\n",
    "\n",
    "2. Identify the occurrence of the user-supplied sequence in the given array.\n",
    "<br>\n",
    "([[3, 6, 2, 6, 4],\n",
    "<br>\n",
    "    [3, 2, 5, 1, 2],\n",
    "<br>\n",
    "    [4, 4, 5, 6, 5],\n",
    "<br>\n",
    "    [5, 3, 4, 3, 6]])\n",
    "\n",
    "\n",
    "\n",
    "Recreate this NumPy array and find the occurrence of the user-supplied sequence.\n",
    "<br>\n",
    "Input Format\n",
    "<br>\n",
    "Input should be in the form of comma-separated integers.\n",
    "<br>\n",
    "example - 5, 1 (or) 1, 2, 3\n",
    "<br>\n",
    "note: use space after each comma.\n",
    "<br>\n",
    "Output Format\n",
    "<br>\n",
    "Occurrence of the given sequence.\n",
    "<br>\n",
    "Sample Input 1\n",
    "<br>\n",
    "3, 6\n",
    "<br>\n",
    "Sample Output 1\n",
    "<br>\n",
    "no of occurrences of the sequence '3, 6' :  2\n",
    "<br>\n",
    "Sample Input 2\n",
    "<br>\n",
    "6\n",
    "<br>\n",
    "Sample Output 2\n",
    "<br>\n",
    "no of occurrences of the sequence '6' :  4"
   ]
  },
  {
   "cell_type": "code",
   "execution_count": 10,
   "metadata": {},
   "outputs": [
    {
     "name": "stdout",
     "output_type": "stream",
     "text": [
      "3, 1\n",
      "no of occurrences of the sequence '3, 1' :  0\n"
     ]
    }
   ],
   "source": [
    "arr = np.array([[3, 6, 2, 6, 4],\n",
    "\n",
    "    [3, 2, 5, 1, 2],\n",
    "\n",
    "    [4, 4, 5, 6, 5],\n",
    "\n",
    "    [5, 3, 4, 3, 6]])\n",
    "seq = input()\n",
    "output = repr(arr).count(seq)\n",
    "print(f\"no of occurrences of the sequence '{seq}' : \",output)"
   ]
  },
  {
   "cell_type": "markdown",
   "metadata": {},
   "source": [
    "## Question - 3\n",
    "\n",
    "3.\tCreate a series in pandas with the given list and set the index of the series with the given list.\n",
    "values = [1, 2, 3] \n",
    "<br>\n",
    "ind = [‘a’,’b’,’c’]\n"
   ]
  },
  {
   "cell_type": "code",
   "execution_count": null,
   "metadata": {},
   "outputs": [],
   "source": [
    "var = pd.Series(values,index=ind)\n",
    "print(var)"
   ]
  },
  {
   "cell_type": "markdown",
   "metadata": {},
   "source": [
    "## Question - 4\n",
    "\n",
    "4.\tFrom the given series map it to true and false based on missing and non-missing values.\n",
    "Given data - [5, 6, 9, none]\n"
   ]
  },
  {
   "cell_type": "code",
   "execution_count": null,
   "metadata": {},
   "outputs": [],
   "source": [
    "s2 = pd.Series([5,6,9,None])\n",
    "print(s2.notnull())"
   ]
  },
  {
   "cell_type": "markdown",
   "metadata": {},
   "source": [
    "## Question - 5\n",
    "\n",
    "5.\tCreate a dataframe with random values with size(5,4) with given index and column names.\n",
    "<br>\n",
    "Ind = [‘a’,’b’,’c’,’d’,’e’]\n",
    "<br>\n",
    "Col = [‘w’,’x’,’y’,’z’]"
   ]
  },
  {
   "cell_type": "code",
   "execution_count": null,
   "metadata": {},
   "outputs": [],
   "source": [
    "from numpy.random import randn\n",
    "np.random.seed(101)\n",
    "df = pd.DataFrame(randn(5,4),index =ind,columns=col )\n",
    "print(df)"
   ]
  },
  {
   "cell_type": "markdown",
   "metadata": {},
   "source": [
    "## Question - 6\n",
    "\n",
    "6.\tCreate a dataframe with multilevel indexing with outer index as the branch – [ data science, maths ] and inner index as the student id under each branch [data science contains – s1,s2,s3] and [math contains –s4,s5,s6] here s1,s2,s3,s4,s5,s6 are the student id under its respective branch. The columns are sem1 and sem2 and the values in the dataframe will be cgpa scored by each student in the respective semester."
   ]
  },
  {
   "attachments": {
    "Screenshot%202023-01-12%20152716.jpg": {
     "image/jpeg": "[encoded data removed]"
    }
   },
   "cell_type": "markdown",
   "metadata": {},
   "source": [
    "expected result:\n",
    "    ![Screenshot%202023-01-12%20152716.jpg](attachment:Screenshot%202023-01-12%20152716.jpg)"
   ]
  },
  {
   "cell_type": "code",
   "execution_count": null,
   "metadata": {},
   "outputs": [],
   "source": [
    "outer = ['data science','data science','data science','maths','maths','maths']\n",
    "inner = ['s1','s2','s3','s4','s5','s6']\n",
    "hier_index = list(zip(outer,inner))\n",
    "hier_index = pd.MultiIndex.from_tuples(hier_index)\n",
    "df = pd.DataFrame(np.random.randint(6,10,size=(6,2)),index=hier_index,columns=['sem1','sem2'])\n",
    "print(df)"
   ]
  },
  {
   "cell_type": "markdown",
   "metadata": {},
   "source": [
    "## Question - 7\n",
    "\n",
    "7.\tCreate a data frame with given values mentioned below and replace the null values with the mean of the respective column.\n"
   ]
  },
  {
   "cell_type": "code",
   "execution_count": 21,
   "metadata": {},
   "outputs": [],
   "source": [
    "values = {'A':[1,567,2,3,np.nan,6,7,8,344,55,np.nan,77,33,np.nan,677],\n",
    "          'B':[78,123,4,66,np.nan,7,77,33,678,898,np.nan,np.nan,1,22,345],\n",
    "        'c':[3453,2,45,676,23,np.nan,np.nan,4,67,23,np.nan,9,0,234,np.nan]}"
   ]
  },
  {
   "cell_type": "code",
   "execution_count": 22,
   "metadata": {},
   "outputs": [],
   "source": [
    "df = pd.DataFrame(values)"
   ]
  },
  {
   "cell_type": "code",
   "execution_count": 23,
   "metadata": {},
   "outputs": [
    {
     "data": {
      "text/html": [
       "<div>\n",
       "<style scoped>\n",
       "    .dataframe tbody tr th:only-of-type {\n",
       "        vertical-align: middle;\n",
       "    }\n",
       "\n",
       "    .dataframe tbody tr th {\n",
       "        vertical-align: top;\n",
       "    }\n",
       "\n",
       "    .dataframe thead th {\n",
       "        text-align: right;\n",
       "    }\n",
       "</style>\n",
       "<table border=\"1\" class=\"dataframe\">\n",
       "  <thead>\n",
       "    <tr style=\"text-align: right;\">\n",
       "      <th></th>\n",
       "      <th>A</th>\n",
       "      <th>B</th>\n",
       "      <th>c</th>\n",
       "    </tr>\n",
       "  </thead>\n",
       "  <tbody>\n",
       "    <tr>\n",
       "      <th>0</th>\n",
       "      <td>1.0</td>\n",
       "      <td>78.0</td>\n",
       "      <td>3453.0</td>\n",
       "    </tr>\n",
       "    <tr>\n",
       "      <th>1</th>\n",
       "      <td>567.0</td>\n",
       "      <td>123.0</td>\n",
       "      <td>2.0</td>\n",
       "    </tr>\n",
       "    <tr>\n",
       "      <th>2</th>\n",
       "      <td>2.0</td>\n",
       "      <td>4.0</td>\n",
       "      <td>45.0</td>\n",
       "    </tr>\n",
       "    <tr>\n",
       "      <th>3</th>\n",
       "      <td>3.0</td>\n",
       "      <td>66.0</td>\n",
       "      <td>676.0</td>\n",
       "    </tr>\n",
       "    <tr>\n",
       "      <th>4</th>\n",
       "      <td>NaN</td>\n",
       "      <td>NaN</td>\n",
       "      <td>23.0</td>\n",
       "    </tr>\n",
       "    <tr>\n",
       "      <th>5</th>\n",
       "      <td>6.0</td>\n",
       "      <td>7.0</td>\n",
       "      <td>NaN</td>\n",
       "    </tr>\n",
       "    <tr>\n",
       "      <th>6</th>\n",
       "      <td>7.0</td>\n",
       "      <td>77.0</td>\n",
       "      <td>NaN</td>\n",
       "    </tr>\n",
       "    <tr>\n",
       "      <th>7</th>\n",
       "      <td>8.0</td>\n",
       "      <td>33.0</td>\n",
       "      <td>4.0</td>\n",
       "    </tr>\n",
       "    <tr>\n",
       "      <th>8</th>\n",
       "      <td>344.0</td>\n",
       "      <td>678.0</td>\n",
       "      <td>67.0</td>\n",
       "    </tr>\n",
       "    <tr>\n",
       "      <th>9</th>\n",
       "      <td>55.0</td>\n",
       "      <td>898.0</td>\n",
       "      <td>23.0</td>\n",
       "    </tr>\n",
       "    <tr>\n",
       "      <th>10</th>\n",
       "      <td>NaN</td>\n",
       "      <td>NaN</td>\n",
       "      <td>NaN</td>\n",
       "    </tr>\n",
       "    <tr>\n",
       "      <th>11</th>\n",
       "      <td>77.0</td>\n",
       "      <td>NaN</td>\n",
       "      <td>9.0</td>\n",
       "    </tr>\n",
       "    <tr>\n",
       "      <th>12</th>\n",
       "      <td>33.0</td>\n",
       "      <td>1.0</td>\n",
       "      <td>0.0</td>\n",
       "    </tr>\n",
       "    <tr>\n",
       "      <th>13</th>\n",
       "      <td>NaN</td>\n",
       "      <td>22.0</td>\n",
       "      <td>234.0</td>\n",
       "    </tr>\n",
       "    <tr>\n",
       "      <th>14</th>\n",
       "      <td>677.0</td>\n",
       "      <td>345.0</td>\n",
       "      <td>NaN</td>\n",
       "    </tr>\n",
       "  </tbody>\n",
       "</table>\n",
       "</div>"
      ],
      "text/plain": [
       "        A      B       c\n",
       "0     1.0   78.0  3453.0\n",
       "1   567.0  123.0     2.0\n",
       "2     2.0    4.0    45.0\n",
       "3     3.0   66.0   676.0\n",
       "4     NaN    NaN    23.0\n",
       "5     6.0    7.0     NaN\n",
       "6     7.0   77.0     NaN\n",
       "7     8.0   33.0     4.0\n",
       "8   344.0  678.0    67.0\n",
       "9    55.0  898.0    23.0\n",
       "10    NaN    NaN     NaN\n",
       "11   77.0    NaN     9.0\n",
       "12   33.0    1.0     0.0\n",
       "13    NaN   22.0   234.0\n",
       "14  677.0  345.0     NaN"
      ]
     },
     "execution_count": 23,
     "metadata": {},
     "output_type": "execute_result"
    }
   ],
   "source": [
    "df"
   ]
  },
  {
   "cell_type": "code",
   "execution_count": null,
   "metadata": {},
   "outputs": [],
   "source": [
    "## solution:\n",
    "for i in df.columns:    \n",
    "    df[i].fillna(value=df[i].mean(),inplace=True)\n",
    "print(df)"
   ]
  },
  {
   "cell_type": "markdown",
   "metadata": {},
   "source": [
    "## Question - 8 \n",
    "\n",
    "8.\tCreate a dataframe with the given values and group by the dataframe based on the company column and use aggregate functions like mean, min, max, count on the dataframe.\n",
    "<br>\n",
    "Dataframe values:\n",
    "<br>\n",
    "'Company': ['GOOGLE','GOOGLE','MSFT','MSFT','FB','FB']\n",
    "<br>\n",
    " 'Person': ['Sam', 'Charlie', 'Amy', 'Vanessa', 'Carl', 'Sarah']\n",
    " <br>\n",
    "  'Sales': [200,120,340,124,243,350]\n"
   ]
  },
  {
   "cell_type": "code",
   "execution_count": null,
   "metadata": {},
   "outputs": [],
   "source": [
    "# solution:\n",
    "data = {'Company':['GOOGLE','GOOGLE','MSFT','MSFT','FB','FB'],\n",
    "       'Person':['Sam','Charlie','Amy','Vanessa','Carl','Sarah'],\n",
    "       'Sales':[200,120,340,124,243,350]}\n",
    "df = pd.DataFrame(data)\n",
    "by_comp = df.groupby(\"Company\")\n",
    "print(by_comp.mean())\n",
    "print(by_comp.std())\n",
    "print(by_comp.min())\n",
    "print(by_comp.max())\n",
    "print(by_comp.count())\n",
    "\n"
   ]
  },
  {
   "cell_type": "markdown",
   "metadata": {},
   "source": [
    "## Question - 9 \n",
    "9.\tCreate a random array of size n and compute the minimum, maximum and average value of the random array."
   ]
  },
  {
   "cell_type": "code",
   "execution_count": null,
   "metadata": {},
   "outputs": [],
   "source": [
    "import numpy as np\n",
    "size = int(input('enter the size of the array : '))\n",
    "v = np.random.random(size)\n",
    "print(v)\n",
    "print('min: ',v.min() ,\"max: \", v.max(),\"mean: \", v.max())     \n"
   ]
  },
  {
   "cell_type": "markdown",
   "metadata": {},
   "source": [
    "## Question -10\n",
    "10.\tCreate an array of 25 linearly spaced points between 0 and 1."
   ]
  },
  {
   "cell_type": "code",
   "execution_count": 25,
   "metadata": {},
   "outputs": [
    {
     "data": {
      "text/plain": [
       "array([0.        , 0.04166667, 0.08333333, 0.125     , 0.16666667,\n",
       "       0.20833333, 0.25      , 0.29166667, 0.33333333, 0.375     ,\n",
       "       0.41666667, 0.45833333, 0.5       , 0.54166667, 0.58333333,\n",
       "       0.625     , 0.66666667, 0.70833333, 0.75      , 0.79166667,\n",
       "       0.83333333, 0.875     , 0.91666667, 0.95833333, 1.        ])"
      ]
     },
     "execution_count": 25,
     "metadata": {},
     "output_type": "execute_result"
    }
   ],
   "source": [
    "np.linspace(0,1,25)"
   ]
  },
  {
   "cell_type": "markdown",
   "metadata": {},
   "source": [
    "## Question - 11\n",
    "11.\tWrite a python program to get 2 matrix with size (2x2) and perform matrix multiplication over it and print the result."
   ]
  },
  {
   "cell_type": "code",
   "execution_count": null,
   "metadata": {},
   "outputs": [],
   "source": [
    "Rows = int(input(\"Give the number of rows:\"))  \n",
    "Columns = int(input(\"Give the number of columns:\"))  \n",
    "m_1 = [[int(input()) for c in range (Columns)] for r in range(Rows)] \n",
    "m_1 = np.array(m_1)\n",
    "print('matrix_1 ',m_1,sep='\\n')\n",
    "m_2 = [[int(input()) for c in range (Columns)] for r in range(Rows)]  \n",
    "m_2 = np.array(m_2)\n",
    "print('matrix_2 ',m_2,sep='\\n')\n",
    "print(\"result: \",m_1.dot(m_2),sep='\\n')\n"
   ]
  },
  {
   "cell_type": "markdown",
   "metadata": {},
   "source": [
    "## Question - 12\n",
    "12.\tWrite a python program to vertically and horizontally stack the given two arrays using numpy."
   ]
  },
  {
   "cell_type": "markdown",
   "metadata": {},
   "source": [
    "Arrays:\n",
    "<br>\n",
    "v1 = np.array([1,2,3,4])\n",
    "<br>\n",
    "v2 = np.array([5,6,7,8])\n"
   ]
  },
  {
   "cell_type": "code",
   "execution_count": null,
   "metadata": {},
   "outputs": [],
   "source": [
    "v1 = np.array([1,2,3,4])\n",
    "v2 = np.array([5,6,7,8])\n",
    "print('Vertical Append:', np.vstack((v1, v2)),sep='\\n')\n",
    "print('Horizontal Append:', np.hstack((v1, v2)),sep='\\n')\n"
   ]
  },
  {
   "cell_type": "markdown",
   "metadata": {},
   "source": [
    "## Question - 13\n",
    "13.\tWrite a python program to get a 2d array from the user and print the reversed version of the array."
   ]
  },
  {
   "cell_type": "code",
   "execution_count": null,
   "metadata": {},
   "outputs": [],
   "source": [
    "Rows = int(input(\"Give the number of rows:\"))  \n",
    "Columns = int(input(\"Give the number of columns:\"))  \n",
    "arr = np.array([[int(input()) for c in range (Columns)] for r in range(Rows)]) \n",
    "print('array : ',arr,sep='\\n')\n",
    "reversed_arr = np.flip(arr)\n",
    "print('reversed array : ',reversed_arr,sep='\\n')\n"
   ]
  },
  {
   "cell_type": "markdown",
   "metadata": {},
   "source": [
    "## Question - 14\n",
    "14.\tWrite a python program to get a 2d array from the user and convert it into a 1d array using numpy."
   ]
  },
  {
   "cell_type": "code",
   "execution_count": null,
   "metadata": {},
   "outputs": [],
   "source": [
    "Rows = int(input(\"Give the number of rows:\"))  \n",
    "Columns = int(input(\"Give the number of columns:\"))  \n",
    "arr = np.array([[int(input()) for c in range (Columns)] for r in range(Rows)]) \n",
    "print('array : ',arr,sep='\\n')\n",
    "a = arr.flatten()\n",
    "print('1d array : ',a,sep='\\n')\n"
   ]
  },
  {
   "cell_type": "markdown",
   "metadata": {},
   "source": [
    "## --------------------------------------END------------------------------"
   ]
  },
  {
   "cell_type": "code",
   "execution_count": null,
   "metadata": {},
   "outputs": [],
   "source": []
  }
 ],
 "metadata": {
  "kernelspec": {
   "display_name": "Python 3",
   "language": "python",
   "name": "python3"
  },
  "language_info": {
   "codemirror_mode": {
    "name": "ipython",
    "version": 3
   },
   "file_extension": ".py",
   "mimetype": "text/x-python",
   "name": "python",
   "nbconvert_exporter": "python",
   "pygments_lexer": "ipython3",
   "version": "3.8.3"
  }
 },
 "nbformat": 4,
 "nbformat_minor": 4
}
