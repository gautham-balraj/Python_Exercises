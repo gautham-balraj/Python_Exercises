{
 "cells": [
  {
   "cell_type": "markdown",
   "metadata": {},
   "source": [
    "### Module 1: "
   ]
  },
  {
   "cell_type": "markdown",
   "metadata": {},
   "source": [
    "### Topics covered\n",
    "Introduction to Python, Data Types, Looping and conditional statements, Data structures of List-Tuple-Dictionary-String, OOPS-functions-class and objects-modules-inheritance-encapsulation-exception handling -python"
   ]
  },
  {
   "cell_type": "markdown",
   "metadata": {},
   "source": [
    "1. Write a program in python to get a list of numbers from the user and do a primality test over it and create a dictionary with keys as prime and non-prime and values should be the corresponding numbers from the list. Also, add the number of prime and non-primes in the dictionary.\n"
   ]
  },
  {
   "cell_type": "markdown",
   "metadata": {},
   "source": [
    "Sample input:\n",
    "\n",
    "2 3 7 9 15 5 25 36 31"
   ]
  },
  {
   "cell_type": "markdown",
   "metadata": {},
   "source": [
    "Sample output: \n",
    "    \n",
    "{'prime': [2, 3, 7, 5, 31],\n",
    "<br>\n",
    "'count of prime numbers': 5,\n",
    "<br>\n",
    "'non prime': [9, 15, 25, 36],\n",
    "<br>\n",
    "'count of non prime numbers': 4}\n"
   ]
  },
  {
   "cell_type": "markdown",
   "metadata": {},
   "source": [
    "solution:"
   ]
  },
  {
   "cell_type": "code",
   "execution_count": 2,
   "metadata": {},
   "outputs": [
    {
     "name": "stdout",
     "output_type": "stream",
     "text": [
      "enter the numbers : 2 3 7 9 15 5 25 36 31\n",
      "{'prime': [2, 3, 7, 5, 31], 'count of prime numbers': 5, 'non prime': [9, 15, 25, 36], 'count of non prime numbers': 4}\n"
     ]
    }
   ],
   "source": [
    "numbers = input('enter the numbers : ')\n",
    "my_list = numbers.split(' ')\n",
    "my_list = [int(s) for s in my_list]\n",
    "prime_num,non_prime = [],[]\n",
    "def primality(num):\n",
    "    prime = True\n",
    "    if num > 1:\n",
    "        for i in range(2, num):\n",
    "            if (num % i) == 0:\n",
    "                prime = False\n",
    "                break\n",
    "    return prime\n",
    "for i in my_list:\n",
    "    if primality(i):\n",
    "        prime_num.append(i)\n",
    "    else:\n",
    "        non_prime.append(i)\n",
    "result = {'prime':prime_num,\n",
    "          'count of prime numbers': len(prime_num),\n",
    "          'non prime':non_prime,\n",
    "          'count of non prime numbers': len(non_prime) }\n",
    "print(result)\n"
   ]
  },
  {
   "cell_type": "markdown",
   "metadata": {},
   "source": [
    "2.Obtain a list of strings from the user as well as a specific character. If the final character of the strings matches the specified particular character, return the string."
   ]
  },
  {
   "cell_type": "markdown",
   "metadata": {},
   "source": [
    "sample input:\n",
    "<br>\n",
    "length of the list : 4\n",
    "<br>\n",
    "aaa\n",
    "<br>\n",
    "bbb\n",
    "<br>\n",
    "ccc\n",
    "<br>\n",
    "aca"
   ]
  },
  {
   "cell_type": "markdown",
   "metadata": {},
   "source": [
    "sample output:\n",
    "<br>\n",
    "enter the specific character: a\n",
    "<br>\n",
    "['aaa', 'bbb', 'ccc', 'aca']\n",
    "<br>\n",
    "reduced list :  ['aaa', 'aca']"
   ]
  },
  {
   "cell_type": "markdown",
   "metadata": {},
   "source": [
    "Solution:"
   ]
  },
  {
   "cell_type": "code",
   "execution_count": 3,
   "metadata": {},
   "outputs": [
    {
     "name": "stdout",
     "output_type": "stream",
     "text": [
      "length of the list : 4\n",
      "aaa\n",
      "bbb\n",
      "ccc\n",
      "aca\n",
      "enter the specific character: a\n",
      "['aaa', 'bbb', 'ccc', 'aca']\n",
      "reduced list :  ['aaa', 'aca']\n"
     ]
    }
   ],
   "source": [
    "n = int(input(\"length of the list : \"))\n",
    "mylist = []\n",
    "for i in range(n):\n",
    "    string = input()\n",
    "    mylist.append(string)\n",
    "char = input('enter the specific character: ')\n",
    "print(mylist)\n",
    "mylist = list(filter(lambda x:x[-1]==char,mylist))\n",
    "print(\"reduced list : \",mylist)\n"
   ]
  },
  {
   "cell_type": "markdown",
   "metadata": {},
   "source": [
    "3.\tCreate a class vehicle with the attributes name, mileage, capacity, and colour, and a class truck that inherits the vehicle class and has the attribute power and create a method that display the truck's power and name."
   ]
  },
  {
   "cell_type": "markdown",
   "metadata": {},
   "source": [
    "Sample input:\n"
   ]
  },
  {
   "cell_type": "markdown",
   "metadata": {},
   "source": [
    "t1 = truck('hummer',12,'black',4,1000)\n",
    "<br>\n",
    "t1.display()"
   ]
  },
  {
   "cell_type": "markdown",
   "metadata": {},
   "source": [
    "sample output:\n",
    "\n",
    "Name of the vechile \"hummer\" and power of the vechile \"1000\""
   ]
  },
  {
   "cell_type": "code",
   "execution_count": 5,
   "metadata": {},
   "outputs": [
    {
     "name": "stdout",
     "output_type": "stream",
     "text": [
      "Name of the vechile \"hummer\" and power of the vechile \"1000\"\n"
     ]
    }
   ],
   "source": [
    "class vehicle(object):   \n",
    "    def __init__(self,name,mileage,colour,capacity):\n",
    "        self.name = name \n",
    "        self.mileage = mileage\n",
    "        self.colour = colour\n",
    "        self.capacity = capacity\n",
    "class truck(vehicle):\n",
    "    def __init__(self,name,mileage,colour,capacity,power):\n",
    "        super().__init__(name,mileage,colour,capacity)\n",
    "        self.power = power\n",
    "        \n",
    "    def display(self):\n",
    "        print(f'Name of the vechile \"{self.name}\" and power of the vechile \"{self.power}\"')\n",
    "        \n",
    "        \n",
    "t1 = truck('hummer',12,'black',4,1000)\n",
    "t1.display()\n"
   ]
  },
  {
   "cell_type": "markdown",
   "metadata": {},
   "source": [
    "4.Create a Python program that verifies the student's grade and determines whether he is qualified to enrol in the course by raising an exception."
   ]
  },
  {
   "cell_type": "markdown",
   "metadata": {},
   "source": [
    "sample input:\n",
    "<br>\n",
    "eligibility('shrijith',9.6)\n",
    "<br>\n",
    "eligibility('boobalan',4.5)"
   ]
  },
  {
   "cell_type": "markdown",
   "metadata": {},
   "source": [
    "sample output:\n",
    "<br>\n",
    "shrijith you are eligible to the course\n",
    "<br>\n",
    "boobalan sorry you are not eligible"
   ]
  },
  {
   "cell_type": "code",
   "execution_count": 10,
   "metadata": {},
   "outputs": [],
   "source": [
    "def eligibility(name,cgpa):\n",
    "    try:\n",
    "        if cgpa < 5:\n",
    "            raise ValueError(cgpa)\n",
    "        print(f'{name} you are eligible to the course')\n",
    "    except ValueError:\n",
    "        print(f'{name} sorry you are not eligible')\n"
   ]
  },
  {
   "cell_type": "markdown",
   "metadata": {},
   "source": [
    "5. Create a Python program to take a user-supplied list, increase the values at even indices by 5, and then return the list."
   ]
  },
  {
   "cell_type": "markdown",
   "metadata": {},
   "source": [
    "sample input and ouput:\n",
    "<br>\n",
    "4 5 6 7 8 9\n",
    "<br>\n",
    "[4, 5, 6, 7, 8, 9]\n",
    "<br>\n",
    "result -  [4, 10, 6, 12, 8, 14]"
   ]
  },
  {
   "cell_type": "code",
   "execution_count": null,
   "metadata": {},
   "outputs": [],
   "source": [
    "#Solution:\n",
    "list1 = input().split()\n",
    "list1 = [int(x) for x in list1] \n",
    "print(list1)\n",
    "for i in range(1,len(list1),2):\n",
    "    list1[i] += 5\n",
    "print(\"result - \",list1)"
   ]
  },
  {
   "cell_type": "markdown",
   "metadata": {},
   "source": [
    "6.Create a Python program to determine whether a string's beginning and ending characters are the same."
   ]
  },
  {
   "cell_type": "markdown",
   "metadata": {},
   "source": [
    "sample inputs and output:"
   ]
  },
  {
   "cell_type": "markdown",
   "metadata": {},
   "source": [
    "case1:\n",
    "<br>\n",
    "    enter the string: abbbba\n",
    "    <br>\n",
    "    abbbba\n",
    "    <br>\n",
    "    Valid\n",
    "    \n",
    "case2:\n",
    "<br>\n",
    "enter the string: abb\n",
    "<br>\n",
    "abb\n",
    "<br>\n",
    "Invalid\n"
   ]
  },
  {
   "cell_type": "code",
   "execution_count": null,
   "metadata": {},
   "outputs": [],
   "source": [
    "import re\n",
    "str1 = input('enter the string: ')\n",
    "regex = r'^[a-z]$|^([a-z]).*\\1$'\n",
    "def check(string): \n",
    "    if(re.search(regex, string)):   \n",
    "        print(string,\"Valid\",sep='\\n')   \n",
    "    else:   \n",
    "        print(string,\"Invalid\",sep='\\n')   \n",
    "check(str1)\n"
   ]
  },
  {
   "cell_type": "markdown",
   "metadata": {},
   "source": [
    "7.Write a python program to print the following pattern."
   ]
  },
  {
   "attachments": {
    "img1.jpg": {
     "image/jpeg": "[encoded data removed]"
    }
   },
   "cell_type": "markdown",
   "metadata": {},
   "source": [
    "![img1.jpg](attachment:img1.jpg)"
   ]
  },
  {
   "cell_type": "code",
   "execution_count": null,
   "metadata": {},
   "outputs": [],
   "source": [
    "n = 5\n",
    "px = 1\n",
    "py = n*2-1\n",
    "for x in range(1,n+1):\n",
    "    for y in range(1,n*2+1):\n",
    "        if (y==px or y == py):\n",
    "            print('#',end='')\n",
    "        else:\n",
    "            print(' ',end='')\n",
    "    px+=1\n",
    "    py-=1\n",
    "    print()\n"
   ]
  },
  {
   "cell_type": "markdown",
   "metadata": {},
   "source": [
    "8.Write a python program to print the following pattern"
   ]
  },
  {
   "attachments": {
    "Screenshot%202023-01-09%20180433.jpg": {
     "image/jpeg": "[encoded data removed]"
    }
   },
   "cell_type": "markdown",
   "metadata": {},
   "source": [
    "![Screenshot%202023-01-09%20180433.jpg](attachment:Screenshot%202023-01-09%20180433.jpg)"
   ]
  },
  {
   "cell_type": "code",
   "execution_count": null,
   "metadata": {},
   "outputs": [],
   "source": [
    "n = 9\n",
    "px = n//2+1\n",
    "for x in range(1,n+1):\n",
    "    for y in range(1,n+1):\n",
    "        if (y==px or y == n-px+1):\n",
    "            print('$',end='')\n",
    "        else:\n",
    "            print(' ',end='')\n",
    "    if (x <= n/2):\n",
    "        px -= 1\n",
    "    else:\n",
    "        px+=1\n",
    "    print()"
   ]
  },
  {
   "cell_type": "markdown",
   "metadata": {},
   "source": [
    "9.Write a python program to print the following pattern."
   ]
  },
  {
   "attachments": {
    "Screenshot%202023-01-09%20181006.jpg": {
     "image/jpeg": "[encoded data removed]"
    }
   },
   "cell_type": "markdown",
   "metadata": {},
   "source": [
    "![Screenshot%202023-01-09%20181006.jpg](attachment:Screenshot%202023-01-09%20181006.jpg)"
   ]
  },
  {
   "cell_type": "code",
   "execution_count": null,
   "metadata": {},
   "outputs": [],
   "source": [
    "n=7\n",
    "d=1\n",
    "for x in range(1,n+1):\n",
    "    for y in range(1,n+1):\n",
    "        if (y>=d)!=0 and y<=n-d+1:\n",
    "            print('*',end='')\n",
    "        else:\n",
    "             print(' ',end='')\n",
    "    if x<=n//2:\n",
    "        d+=1\n",
    "    else:\n",
    "        d-=1\n",
    "    print()\n"
   ]
  },
  {
   "cell_type": "markdown",
   "metadata": {},
   "source": [
    "10.Write a Python program to take a user-supplied number and reorder the digits to produce the next larger number and represent it the form of dictionary."
   ]
  },
  {
   "cell_type": "markdown",
   "metadata": {},
   "source": [
    "sample inputs and outputs:\n",
    "<br>\n",
    "\n",
    "case1:\n",
    "<br>\n",
    "enter a number 659\n",
    "<br>\n",
    "{659: '965 is greater number formed from 659'}\n",
    "<br>\n",
    "\n",
    "case2:\n",
    "<br>\n",
    "enter a number 91\n",
    "<br>\n",
    "{91: 'greater number cannot be formed from 91'}\n",
    "\n"
   ]
  },
  {
   "cell_type": "code",
   "execution_count": null,
   "metadata": {},
   "outputs": [],
   "source": [
    "num = str(input('enter a number '))\n",
    "result = {}\n",
    "given = int(num)\n",
    "num = [int(x) for x in num]\n",
    "num.sort(reverse=True)\n",
    "s=[str(i) for i in num]\n",
    "num = \"\".join(s)\n",
    "num= int(num)\n",
    "x = lambda n :  f\"{n} is greater number formed from {given}\" if n>given and n!=given else f\"greater number cannot be formed from {given}\"\n",
    "result[given] = x(num)\n",
    "print(result)"
   ]
  },
  {
   "cell_type": "markdown",
   "metadata": {},
   "source": [
    "11.Create a class that contains the details of a book and a method to display the details of the book. The attributes of the class should be user-driven."
   ]
  },
  {
   "cell_type": "markdown",
   "metadata": {},
   "source": [
    "sample input and output\n",
    "<br>\n",
    "enter name : After\n",
    "<br>\n",
    "enter author name  : Anna Todd\n",
    "<br>\n",
    "enter no of pages : 500\n",
    "<br>\n",
    "enter price of the book : 1000\n",
    "\n",
    "<br>\n",
    "{'name of the book ': 'After', \n",
    "<br>\n",
    "'author name': 'Anna Todd',\n",
    "<br>\n",
    "'no of pages': '500', \n",
    "<br>\n",
    "'price of the book': '1000'}"
   ]
  },
  {
   "cell_type": "code",
   "execution_count": null,
   "metadata": {},
   "outputs": [],
   "source": [
    "class book():\n",
    "    def __init__(self,name,author,pages,price):\n",
    "        self.name = name\n",
    "        self.author = author\n",
    "        self.pages = pages\n",
    "        self.price = price\n",
    "    def display_details(self):\n",
    "        result = {\"name of the book \": self.name,\n",
    "                  \"author name\": self.author,\n",
    "                  \"no of pages\":self.pages,\n",
    "                  \"price of the book\": self.price}\n",
    "        return result\n",
    "\n",
    "def get_details():\n",
    "    l = ['name','author name ','no of pages','price of the book']\n",
    "    details = []\n",
    "    for i in l:\n",
    "        inp = input(f'enter {i} : ')\n",
    "        details.append(inp)\n",
    "    details = tuple(details)\n",
    "    return details\n",
    "inputs1 = get_details()\n",
    "book1 = book(*inputs1)\n",
    "print(book1.display_details())\n"
   ]
  },
  {
   "cell_type": "markdown",
   "metadata": {},
   "source": [
    "12.Create a python program that randomly produce a list of n numbers between the provided range that are divisible by 7 and 9."
   ]
  },
  {
   "cell_type": "markdown",
   "metadata": {},
   "source": [
    "sample input and output:\n",
    "\n",
    "<br>\n",
    "enter the length of the list : 10\n",
    "<br>\n",
    "start : 1\n",
    "<br>\n",
    "end : 8000\n",
    "<br>\n",
    "\n",
    "\n",
    "[6111, 3717, 3843, 4662, 7686, 4284, 4032, 2898, 3087, 4158]\n"
   ]
  },
  {
   "cell_type": "code",
   "execution_count": null,
   "metadata": {
    "scrolled": true
   },
   "outputs": [],
   "source": [
    "n = int(input('enter the length of the list : '))\n",
    "a = int(input('start : '))\n",
    "b = int(input('end : ')) \n",
    "import random\n",
    "print (random.sample([i for i in range(a,b+1) if i%7==0 and i%9==0], n))\n"
   ]
  },
  {
   "cell_type": "markdown",
   "metadata": {},
   "source": [
    "13.Create three classes family, father, and son should all have multilevel inheritance and a straightforward display method for each class. "
   ]
  },
  {
   "cell_type": "markdown",
   "metadata": {},
   "source": [
    "sample input and output:\n",
    "<br>\n",
    "\n",
    "no of members in the family: 3\n",
    "<br>\n",
    "father's name: viky\n",
    "<br>\n",
    "Son's name: boobalan\n",
    "<br>\n",
    "\n",
    "This is family of 3 people\n",
    "<br>\n",
    "father name is viky\n",
    "<br>\n",
    "son name is boobalan"
   ]
  },
  {
   "cell_type": "code",
   "execution_count": null,
   "metadata": {},
   "outputs": [],
   "source": [
    "class family:\n",
    "    def __init__(self,number):\n",
    "        self.number = number  \n",
    "    def showfamily(self):\n",
    "        print(f\"This is family of {self.number} people\")\n",
    "class father(family):\n",
    "    def __init__(self,number,father_name):\n",
    "        super().__init__(number)\n",
    "        self.father_name = father_name\n",
    "    def fathername(self):\n",
    "        print(f\"father name is {self.father_name}\")\n",
    "class son(father):\n",
    "    def __init__(self,number,father_name,son_name):\n",
    "        super().__init__(number,father_name)\n",
    "        self.son_name = son_name\n",
    "    def sonname(self):\n",
    "        print(f\"son name is {self.son_name}\")\n",
    "n = int(input('no of members in the family: '))\n",
    "f_name = input(\"father's name: \")\n",
    "s_name = input('Son\\'s name: ')\n",
    "obj1 = son(n,f_name,s_name)\n",
    "obj1.showfamily()\n",
    "obj1.fathername()\n",
    "obj1.sonname()"
   ]
  },
  {
   "cell_type": "markdown",
   "metadata": {},
   "source": [
    "14.Create a Python programme that returns the party with the most votes after receiving the input of votes for each party."
   ]
  },
  {
   "cell_type": "markdown",
   "metadata": {},
   "source": [
    "sample input and output:\n",
    "<br>\n",
    "\n",
    "case1:\n",
    "<br>\n",
    "\n",
    "enter number of votes : 4\n",
    "<br>\n",
    "Who do you vote for A, B or C? a\n",
    "<br>\n",
    "Who do you vote for A, B or C? b\n",
    "<br>\n",
    "Who do you vote for A, B or C? c\n",
    "<br>\n",
    "Who do you vote for A, B or C? a\n",
    "<br>\n",
    "\n",
    "\n",
    "party A has majority votes : 2\n",
    "\n",
    "case2:\n",
    "<br>\n",
    "\n",
    "enter number of votes : 3\n",
    "<br>\n",
    "Who do you vote for A, B or C? a\n",
    "<br>\n",
    "Who do you vote for A, B or C? b\n",
    "<br>\n",
    "Who do you vote for A, B or C? c\n",
    "<br>\n",
    "\n",
    "There are no majority votes.\n"
   ]
  },
  {
   "cell_type": "code",
   "execution_count": null,
   "metadata": {},
   "outputs": [],
   "source": [
    "def check_votes(n):\n",
    "    if n == 0 :\n",
    "        print('There are no votes.')\n",
    "    else:\n",
    "        num = n * (1 / 2)\n",
    "        votes = []\n",
    "        countA = 0\n",
    "        countB = 0\n",
    "        countC = 0\n",
    "\n",
    "        for i in range(1, n + 1) :\n",
    "            vote = input('Who do you vote for A, B or C? ')\n",
    "            votes.append(vote.lower())\n",
    "        \n",
    "        for v in votes :\n",
    "            if v == 'a' :\n",
    "                countA += 1\n",
    "            elif v == 'b' :\n",
    "                countB += 1\n",
    "            elif v == 'c' :\n",
    "                countC == 1\n",
    "\n",
    "        if countA > countB and countA > countC and countA >= num : \n",
    "            print('party A has majority votes :', countA)\n",
    "        \n",
    "        elif countB > countA and countB > countC and countB >= num : \n",
    "            print('party B has majority votes :', countB)\n",
    "\n",
    "        elif countC > countA and countC > countB and countC >= num : \n",
    "            print('paty C has majority votes :', countC)\n",
    "        \n",
    "        else:\n",
    "            print('There are no majority votes.')\n",
    "number = int(input('enter number of votes : '))\n",
    "check_votes(number)"
   ]
  },
  {
   "cell_type": "markdown",
   "metadata": {},
   "source": [
    "15.Write a python program to create a class calculator that can calculate a number's square, cube, and square root."
   ]
  },
  {
   "cell_type": "markdown",
   "metadata": {},
   "source": [
    "sample input and output:\n",
    "<br>\n",
    "\n",
    "Enter the Number: 5\n",
    "<br>\n",
    "Square of the 5 is: 25\n",
    "<br>\n",
    "Cube of the 5 is: 125\n",
    "<br>\n",
    "\n",
    "\n",
    "SquareRoot of the 5 is: 2.23606797749979"
   ]
  },
  {
   "cell_type": "code",
   "execution_count": null,
   "metadata": {},
   "outputs": [],
   "source": [
    "class Calculator:\n",
    "    def __init__(self, num):\n",
    "        self.number = num\n",
    "    \n",
    "    def square(self):\n",
    "        return self.number**2\n",
    "             \n",
    "    def cube(self):\n",
    "        return self.number**3\n",
    "        \n",
    "    def sqrt(self):\n",
    "        return self.number**0.5\n",
    "\n",
    "a = int(input(\"Enter the Number: \"))\n",
    "calc = Calculator(a)\n",
    "\n",
    "print(f\"Square of the {a} is: {calc.square()}\")\n",
    "print(f\"Cube of the {a} is: {calc.cube()}\")\n",
    "print(f\"SquareRoot of the {a} is: {calc.sqrt()}\")"
   ]
  },
  {
   "cell_type": "markdown",
   "metadata": {},
   "source": [
    "##                       ---------------------------------END-----------------------------"
   ]
  }
 ],
 "metadata": {
  "kernelspec": {
   "display_name": "Python 3",
   "language": "python",
   "name": "python3"
  },
  "language_info": {
   "codemirror_mode": {
    "name": "ipython",
    "version": 3
   },
   "file_extension": ".py",
   "mimetype": "text/x-python",
   "name": "python",
   "nbconvert_exporter": "python",
   "pygments_lexer": "ipython3",
   "version": "3.8.3"
  }
 },
 "nbformat": 4,
 "nbformat_minor": 4
}
